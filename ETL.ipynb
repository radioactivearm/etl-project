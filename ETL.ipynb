{
 "cells": [
  {
   "cell_type": "code",
   "execution_count": null,
   "metadata": {},
   "outputs": [],
   "source": [
    "# dependencies\n",
    "import pandas as pd\n",
    "from sqlalchemy import create_engine"
   ]
  },
  {
   "cell_type": "markdown",
   "metadata": {},
   "source": [
    "# Taking out of CSV"
   ]
  },
  {
   "cell_type": "code",
   "execution_count": null,
   "metadata": {},
   "outputs": [],
   "source": [
    "# importing csv's\n",
    "scotch_file = 'Resources/scotch_score.csv'\n",
    "scotch_region_df = pd.read_csv(scotch_file)\n",
    "scotch_region_df.head()"
   ]
  },
  {
   "cell_type": "code",
   "execution_count": null,
   "metadata": {},
   "outputs": [],
   "source": [
    "scotch_region_df['NAME'].nunique()"
   ]
  },
  {
   "cell_type": "code",
   "execution_count": null,
   "metadata": {},
   "outputs": [],
   "source": [
    "scotch_region_df.dtypes"
   ]
  },
  {
   "cell_type": "code",
   "execution_count": null,
   "metadata": {},
   "outputs": [],
   "source": [
    "whisky_file = 'Resources/whisky.csv'\n",
    "whisky_df = pd.read_csv(whisky_file)\n",
    "whisky_df.head()"
   ]
  },
  {
   "cell_type": "code",
   "execution_count": null,
   "metadata": {},
   "outputs": [],
   "source": [
    "whisky_df.Distillery.nunique()"
   ]
  },
  {
   "cell_type": "code",
   "execution_count": null,
   "metadata": {},
   "outputs": [],
   "source": [
    "# whisky_df.dtypes"
   ]
  },
  {
   "cell_type": "markdown",
   "metadata": {},
   "source": [
    "# Transforming Data"
   ]
  },
  {
   "cell_type": "code",
   "execution_count": null,
   "metadata": {},
   "outputs": [],
   "source": [
    "# keeping only name, region and district columns\n",
    "scotch_df = scotch_region_df[['NAME','REGION','DISTRICT']].copy()\n",
    "scotch_df.head()"
   ]
  },
  {
   "cell_type": "code",
   "execution_count": null,
   "metadata": {},
   "outputs": [],
   "source": [
    "# changing names (i like those names, but I want them lowercase)\n",
    "scotch_df = scotch_df.rename(columns={'NAME': 'distillery', 'REGION': 'region', 'DISTRICT': 'district'})\n",
    "scotch_df.head()"
   ]
  },
  {
   "cell_type": "code",
   "execution_count": null,
   "metadata": {},
   "outputs": [],
   "source": [
    "# there are duplicates because they were going by bottle and we want to go by distillery only\n",
    "scotch_df.drop_duplicates(inplace=True)\n",
    "scotch_df"
   ]
  },
  {
   "cell_type": "code",
   "execution_count": null,
   "metadata": {},
   "outputs": [],
   "source": [
    "# now there are some NaN values in there\n",
    "scotch_df.dropna(inplace=True)\n",
    "scotch_df.count()"
   ]
  },
  {
   "cell_type": "code",
   "execution_count": null,
   "metadata": {},
   "outputs": [],
   "source": [
    "whisky_df.columns"
   ]
  },
  {
   "cell_type": "code",
   "execution_count": null,
   "metadata": {},
   "outputs": [],
   "source": [
    "# on to whisky_df\n",
    "# making df for flavors\n",
    "flavor_df = whisky_df[['Distillery', 'Body', 'Sweetness', 'Smoky', 'Medicinal',\n",
    "       'Tobacco', 'Honey', 'Spicy', 'Winey', 'Nutty', 'Malty', 'Fruity',\n",
    "       'Floral']].copy()\n",
    "flavor_df.head()"
   ]
  },
  {
   "cell_type": "code",
   "execution_count": null,
   "metadata": {},
   "outputs": [],
   "source": [
    "# renaming columns lowercase (again, these are pretty good column names already)\n",
    "flavor_df = flavor_df.rename(columns={'Distillery': 'distillery', 'Body': 'body', 'Sweetness': 'sweetness',\n",
    "                                     'Smoky': 'smoky', 'Medicinal': 'medicinal', 'Tobacco': 'tobacco', \n",
    "                                     'Honey': 'honey', 'Spicy': 'spicy', 'Winey': 'winey', 'Nutty': 'nutty',\n",
    "                                     'Malty': 'malty', 'Fruity': 'fruity', 'Floral': 'floral'})\n",
    "flavor_df.head()"
   ]
  },
  {
   "cell_type": "code",
   "execution_count": null,
   "metadata": {},
   "outputs": [],
   "source": [
    "# lets make a lat/long df\n",
    "whisky_df.head()"
   ]
  },
  {
   "cell_type": "code",
   "execution_count": null,
   "metadata": {},
   "outputs": [],
   "source": [
    "postal_df = whisky_df[['Distillery', 'Postcode']].copy()\n",
    "postal_df.head()"
   ]
  },
  {
   "cell_type": "code",
   "execution_count": null,
   "metadata": {},
   "outputs": [],
   "source": [
    "# rename columns\n",
    "postal_df = postal_df.rename(columns={'Distillery': 'distillery', 'Postcode': 'postcode'})\n",
    "postal_df.head()"
   ]
  },
  {
   "cell_type": "code",
   "execution_count": null,
   "metadata": {},
   "outputs": [],
   "source": [
    "scotch_df.region.unique()"
   ]
  },
  {
   "cell_type": "code",
   "execution_count": null,
   "metadata": {},
   "outputs": [],
   "source": [
    "# I want to change those three to Highlands, Lowlands, and Islay\n",
    "scotch_df = scotch_df.replace(to_replace={'HIGH': 'Highlands', 'ISLAY': 'Islay', 'LOW': 'Lowlands'})\n",
    "scotch_df.head()"
   ]
  },
  {
   "cell_type": "code",
   "execution_count": null,
   "metadata": {},
   "outputs": [],
   "source": [
    "scotch_df.loc[scotch_df.region == 'Highlands'].district.unique()"
   ]
  },
  {
   "cell_type": "code",
   "execution_count": null,
   "metadata": {},
   "outputs": [],
   "source": [
    "scotch_df.loc[scotch_df.region == 'Lowlands'].district.unique()\n",
    "# they reused districts like east and west between different regions.\n",
    "# and i kind of like it that way so I am going to leav it"
   ]
  },
  {
   "cell_type": "code",
   "execution_count": null,
   "metadata": {},
   "outputs": [],
   "source": [
    "scotch_df.loc[scotch_df.region == 'Islay'].district.unique()"
   ]
  },
  {
   "cell_type": "code",
   "execution_count": null,
   "metadata": {},
   "outputs": [],
   "source": [
    "scotch_df.district.unique()"
   ]
  },
  {
   "cell_type": "code",
   "execution_count": null,
   "metadata": {},
   "outputs": [],
   "source": [
    "# replacing names of scotch districts\n",
    "scotch_df = scotch_df.replace(to_replace={'MIDLAND': 'Midland', 'SPEY': 'Speyside', 'SOUTH': 'South',\n",
    "                                          'WEST': 'West', 'NORTH': 'North', 'BORDERS': 'Borders', 'LOCH': 'Loch',\n",
    "                                           'EAST': 'East', 'CAMPBEL': 'Campbeltown', 'ORKNEY': 'Orkney',\n",
    "                                          'JURA': 'Jura', 'NORTHWEST': 'Northwest', 'CENTRAL': 'Central',\n",
    "                                          'SKYE': 'Skye', 'MULL': 'Mull'})\n",
    "scotch_df.district.unique()"
   ]
  },
  {
   "cell_type": "code",
   "execution_count": null,
   "metadata": {},
   "outputs": [],
   "source": [
    "# drop \\t on postcode in postal_df\n",
    "for x in range(len(postal_df.postcode)):\n",
    "    post = postal_df.postcode[x]\n",
    "    if '\\t' in post:\n",
    "        post = post.split('\\t')[1]\n",
    "        postal_df.postcode[x] = post\n",
    "        "
   ]
  },
  {
   "cell_type": "code",
   "execution_count": null,
   "metadata": {},
   "outputs": [],
   "source": [
    "postal_df.postcode.head()"
   ]
  },
  {
   "cell_type": "code",
   "execution_count": null,
   "metadata": {},
   "outputs": [],
   "source": [
    "postal_df.count()"
   ]
  },
  {
   "cell_type": "code",
   "execution_count": null,
   "metadata": {},
   "outputs": [],
   "source": [
    "#look at three dfs\n",
    "flavor_df.dtypes"
   ]
  },
  {
   "cell_type": "code",
   "execution_count": null,
   "metadata": {},
   "outputs": [],
   "source": [
    "scotch_df.dtypes"
   ]
  },
  {
   "cell_type": "code",
   "execution_count": null,
   "metadata": {},
   "outputs": [],
   "source": [
    "postal_df.dtypes"
   ]
  },
  {
   "cell_type": "markdown",
   "metadata": {},
   "source": [
    "# Putting into Database"
   ]
  },
  {
   "cell_type": "code",
   "execution_count": null,
   "metadata": {},
   "outputs": [],
   "source": [
    "from config import user, password, host, port"
   ]
  },
  {
   "cell_type": "code",
   "execution_count": null,
   "metadata": {},
   "outputs": [],
   "source": []
  },
  {
   "cell_type": "code",
   "execution_count": null,
   "metadata": {},
   "outputs": [],
   "source": [
    "# connecting to scotch_db database\n",
    "db = 'scotch_db'\n",
    "rds_connection_string = f\"{user}:{password}@{host}:{port}/{db}\"\n",
    "engine = create_engine(f'postgresql://{rds_connection_string}')"
   ]
  },
  {
   "cell_type": "code",
   "execution_count": null,
   "metadata": {},
   "outputs": [],
   "source": [
    "# looking at tables in scotch_db\n",
    "engine.table_names()"
   ]
  },
  {
   "cell_type": "code",
   "execution_count": null,
   "metadata": {},
   "outputs": [],
   "source": [
    "# loading scotch df to scotch region table\n",
    "scotch_df.to_sql(name='scotch_region', con=engine, if_exists='replace', index=False)"
   ]
  },
  {
   "cell_type": "code",
   "execution_count": null,
   "metadata": {},
   "outputs": [],
   "source": [
    "# loading flavor df to scotch_flavor table\n",
    "flavor_df.to_sql(name='scotch_flavor', con=engine, if_exists='replace', index=False)"
   ]
  },
  {
   "cell_type": "code",
   "execution_count": null,
   "metadata": {},
   "outputs": [],
   "source": [
    "# loading scotch df to scotch region table\n",
    "postal_df.to_sql(name='scotch_location', con=engine, if_exists='replace', index=False)"
   ]
  },
  {
   "cell_type": "markdown",
   "metadata": {},
   "source": [
    "We chose to do if_exists='replace' rather than append because we are putting in the same data each time and if we ran the code again we didn't want to create duplicates of the data."
   ]
  },
  {
   "cell_type": "code",
   "execution_count": null,
   "metadata": {},
   "outputs": [],
   "source": [
    "# just looking at distillery names\n",
    "flavor_df.distillery.unique()"
   ]
  },
  {
   "cell_type": "code",
   "execution_count": null,
   "metadata": {},
   "outputs": [],
   "source": []
  }
 ],
 "metadata": {
  "kernelspec": {
   "display_name": "Python 3",
   "language": "python",
   "name": "python3"
  },
  "language_info": {
   "codemirror_mode": {
    "name": "ipython",
    "version": 3
   },
   "file_extension": ".py",
   "mimetype": "text/x-python",
   "name": "python",
   "nbconvert_exporter": "python",
   "pygments_lexer": "ipython3",
   "version": "3.6.10"
  }
 },
 "nbformat": 4,
 "nbformat_minor": 4
}
